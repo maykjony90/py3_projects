{
 "cells": [
  {
   "cell_type": "code",
   "execution_count": 4,
   "metadata": {
    "collapsed": true
   },
   "outputs": [],
   "source": [
    "from tkinter import *\n",
    "from tkinter import messagebox\n",
    "from PIL import Image, ImageTk"
   ]
  },
  {
   "cell_type": "code",
   "execution_count": 2,
   "metadata": {},
   "outputs": [],
   "source": [
    "class Window(Frame):\n",
    "    \n",
    "    def __init__(self, master=None):\n",
    "        Frame.__init__(self, master)\n",
    "        \n",
    "        self.master = master\n",
    "        \n",
    "        self.init_window()\n",
    "        \n",
    "\n",
    "    # \n",
    "    def init_window(self):\n",
    "        # name of the app that appears on the bar\n",
    "        self.master.title(\"GUI TUTORIAL\")\n",
    "        # MISSING\n",
    "        self.pack(fill=BOTH, expand=1)\n",
    "        # create a button object with text \"quit\"\n",
    "        #quitButton = Button(self, text=\"Quit\", width=20, command=self.client_exit)\n",
    "\n",
    "        # place the button on the top left corner\n",
    "        # quitButton.place(x=0, y=0)\n",
    "        # or you can place it at the center\n",
    "        # quitButton.place(relx=.5, rely=.5, anchor=\"c\")\n",
    "\n",
    "        # create a Menu object, menu\n",
    "        # this is the main menu of the main window\n",
    "        menu = Menu(self.master)\n",
    "        # configure master menu as menu\n",
    "        # say that menu will be menu instance\n",
    "        self.master.config(menu=menu)\n",
    "\n",
    "        # create a Menu object with menu, file\n",
    "        file = Menu(menu)\n",
    "        # add a command to file menu\n",
    "        file.add_command(label='Exit', command=self.client_exit)\n",
    "        # with demonstration purpose:\n",
    "        file.add_command(label='Save', command=self.client_exit)\n",
    "        \n",
    "        # add file to the menu by cascading\n",
    "        menu.add_cascade(label='File', menu=file)\n",
    "\n",
    "        # create a Menu object, edit\n",
    "        edit = Menu(menu)\n",
    "        #\n",
    "        edit.add_command(label='Undo')\n",
    "        #\n",
    "        menu.add_cascade(label='Edit', menu=edit)\n",
    "\n",
    "\n",
    "        help_menu = Menu(menu)\n",
    "        help_menu.add_command(label='FAQ', command=self.open_readme)\n",
    "        menu.add_cascade(label='Help', menu=help_menu)\n",
    "\n",
    "        \n",
    "    # exit function\n",
    "    def client_exit(self):\n",
    "        exit()\n",
    "\n",
    "\n",
    "    # open README.txt file\n",
    "    def open_readme(self):\n",
    "        file = open(\"/home/jony/Documents/python_projects/py3projects/Tkinter_Tutorial/README.txt\")\n",
    "        content = file.read()\n",
    "        messagebox.showinfo(\"FAQ\", content)"
   ]
  },
  {
   "cell_type": "code",
   "execution_count": 3,
   "metadata": {},
   "outputs": [],
   "source": [
    "# create a Tk object, root\n",
    "root = Tk()\n",
    "# decide the initial size of the app window\n",
    "root.geometry(\"400x300\")\n",
    "\n",
    "# MISSING\n",
    "app = Window(root)\n",
    "\n",
    "# MISSING\n",
    "root.mainloop()"
   ]
  },
  {
   "cell_type": "code",
   "execution_count": null,
   "metadata": {
    "collapsed": true
   },
   "outputs": [],
   "source": []
  }
 ],
 "metadata": {
  "kernelspec": {
   "display_name": "Python (py3.6)",
   "language": "python",
   "name": "py3"
  },
  "language_info": {
   "codemirror_mode": {
    "name": "ipython",
    "version": 3
   },
   "file_extension": ".py",
   "mimetype": "text/x-python",
   "name": "python",
   "nbconvert_exporter": "python",
   "pygments_lexer": "ipython3",
   "version": "3.6.1"
  }
 },
 "nbformat": 4,
 "nbformat_minor": 2
}
