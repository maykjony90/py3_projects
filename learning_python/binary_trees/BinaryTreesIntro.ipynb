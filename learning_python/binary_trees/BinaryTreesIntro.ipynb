{
 "cells": [
  {
   "cell_type": "markdown",
   "metadata": {},
   "source": [
    "# Binary Trees"
   ]
  },
  {
   "cell_type": "markdown",
   "metadata": {},
   "source": [
    "First of all define the model you will create. Binary trees are made up of nodes. These nodes may or may not have child nodes(left and right)."
   ]
  },
  {
   "cell_type": "code",
   "execution_count": 13,
   "metadata": {
    "collapsed": true
   },
   "outputs": [],
   "source": [
    "class BinaryTree:\n",
    "    def __init__(self, value):\n",
    "        self.value = value\n",
    "        self.left_child = None\n",
    "        self.right_child = None\n",
    "        \n",
    "    \n",
    "    def insert_left(self, value):\n",
    "        # if left child not exists, create a new node and pass the given value as its value\n",
    "        if self.left_child == None:\n",
    "            self.left_child = BinaryTree(value)\n",
    "        # if left child exists, create a new node and pass the old value that node carries and\n",
    "        # pass the new value to the left child of the node.\n",
    "        else:\n",
    "            new_node = BinaryTree(value)\n",
    "            new_node.left_child = self.left_child\n",
    "            self.left_child = new_node\n",
    "            \n",
    "            \n",
    "    def insert_right(self, value):\n",
    "        if self.right_child == None:\n",
    "            self.right_child = BinaryTree(value)\n",
    "        else:\n",
    "            new_node = BinaryTree(value)\n",
    "            new_node.right_child = self.right_child\n",
    "            self.right_child = new_node\n",
    "            \n",
    "            \n",
    "    def pre_order(self):\n",
    "        print(self.value)\n",
    "        \n",
    "        if self.left_child:\n",
    "            self.left_child.pre_order()\n",
    "            \n",
    "        if self.right_child:\n",
    "            self.right_child.pre_order()\n",
    "            \n",
    "    \n",
    "    def in_order(self):\n",
    "        if self.left_child:\n",
    "            self.left_child.pre_order()\n",
    "            \n",
    "        print(self.value)\n",
    "            \n",
    "        if self.right_child:\n",
    "            self.right_child.pre_order()\n",
    "            \n",
    "            \n",
    "    def post_order(self):\n",
    "        if self.left_child:\n",
    "            self.left_child.pre_order()\n",
    "            \n",
    "        if self.right_child:\n",
    "            self.right_child.pre_order()\n",
    "            \n",
    "        print(self.value)    "
   ]
  },
  {
   "cell_type": "markdown",
   "metadata": {},
   "source": [
    "Always check if everything is alright"
   ]
  },
  {
   "cell_type": "code",
   "execution_count": 2,
   "metadata": {},
   "outputs": [
    {
     "name": "stdout",
     "output_type": "stream",
     "text": [
      "a\n",
      "None\n",
      "None\n"
     ]
    }
   ],
   "source": [
    "tree = BinaryTree('a')\n",
    "print(tree.value)\n",
    "print(tree.left_child)\n",
    "print(tree.right_child)"
   ]
  },
  {
   "cell_type": "markdown",
   "metadata": {},
   "source": [
    "Always check if everything is alright"
   ]
  },
  {
   "cell_type": "code",
   "execution_count": 14,
   "metadata": {},
   "outputs": [
    {
     "name": "stdout",
     "output_type": "stream",
     "text": [
      "a\n",
      "b\n",
      "c\n",
      "d\n",
      "e\n",
      "f\n"
     ]
    }
   ],
   "source": [
    "a_node = BinaryTree('a')\n",
    "a_node.insert_left('b')\n",
    "a_node.insert_right('c')\n",
    "\n",
    "b_node = a_node.left_child\n",
    "c_node = a_node.right_child\n",
    "\n",
    "b_node.insert_right('d')\n",
    "c_node.insert_left('e')\n",
    "c_node.insert_right('f')\n",
    "\n",
    "d_node = b_node.right_child\n",
    "e_node = c_node.left_child\n",
    "f_node = c_node.right_child\n",
    "\n",
    "print(a_node.value)\n",
    "print(b_node.value)\n",
    "print(c_node.value)\n",
    "print(d_node.value)\n",
    "print(e_node.value)\n",
    "print(f_node.value)"
   ]
  },
  {
   "cell_type": "markdown",
   "metadata": {},
   "source": [
    "# DFS (Depth-First Search)\n",
    "1. Start at the root. Print it\n",
    "2. Go to the left child. Print it. (This node doesn't have any child)\n",
    "3. Backtrack and go to the right child.Print it. (This node doesn't have any child)\n",
    "4. Backtrack to the root node and go to the right child. Print it.\n",
    "5. Go to the left child. Print it. (This node doesn't have any child)\n",
    "6. Backtrack and go to the right child. Print it. (This node doesn't have any child)\n",
    "7. Done."
   ]
  },
  {
   "cell_type": "markdown",
   "metadata": {},
   "source": [
    "The Pre-order Algorithm:\n",
    "    1. Print the value of the node.\n",
    "    2. Check if the node has a left child, if so:\n",
    "        3. Call the function for left child\n",
    "    4. Check if the node has a right child, if so:\n",
    "        5. Call the function for right child"
   ]
  },
  {
   "cell_type": "markdown",
   "metadata": {},
   "source": [
    "The In-order Algorithm:\n",
    "    1. Check if the node has a left child, if so:\n",
    "        2. Call the function for left child\n",
    "    3. Print the value of the node.\n",
    "    4. Check if the node has a right child, if so:\n",
    "        5. Call the function for right child"
   ]
  },
  {
   "cell_type": "markdown",
   "metadata": {},
   "source": [
    "The Post-order Algorithm:\n",
    "    1. Check if the node has a left child, if so:\n",
    "        2. Call the function for left child\n",
    "    3. Check if the node has a right child, if so:\n",
    "        4. Call the function for right child\n",
    "    5. Print the value of the node."
   ]
  },
  {
   "cell_type": "code",
   "execution_count": 12,
   "metadata": {},
   "outputs": [
    {
     "name": "stdout",
     "output_type": "stream",
     "text": [
      "a\n",
      "b\n",
      "d\n",
      "c\n",
      "e\n",
      "f\n"
     ]
    }
   ],
   "source": [
    "a_node.pre_order()"
   ]
  },
  {
   "cell_type": "code",
   "execution_count": 15,
   "metadata": {},
   "outputs": [
    {
     "name": "stdout",
     "output_type": "stream",
     "text": [
      "b\n",
      "d\n",
      "a\n",
      "c\n",
      "e\n",
      "f\n"
     ]
    }
   ],
   "source": [
    "a_node.in_order()"
   ]
  },
  {
   "cell_type": "code",
   "execution_count": 16,
   "metadata": {},
   "outputs": [
    {
     "name": "stdout",
     "output_type": "stream",
     "text": [
      "b\n",
      "d\n",
      "c\n",
      "e\n",
      "f\n",
      "a\n"
     ]
    }
   ],
   "source": [
    "a_node.post_order()"
   ]
  },
  {
   "cell_type": "code",
   "execution_count": null,
   "metadata": {
    "collapsed": true
   },
   "outputs": [],
   "source": []
  }
 ],
 "metadata": {
  "kernelspec": {
   "display_name": "Python (py3.6)",
   "language": "python",
   "name": "py3"
  },
  "language_info": {
   "codemirror_mode": {
    "name": "ipython",
    "version": 3
   },
   "file_extension": ".py",
   "mimetype": "text/x-python",
   "name": "python",
   "nbconvert_exporter": "python",
   "pygments_lexer": "ipython3",
   "version": "3.6.1"
  }
 },
 "nbformat": 4,
 "nbformat_minor": 2
}
