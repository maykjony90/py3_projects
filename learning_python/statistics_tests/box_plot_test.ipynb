{
 "cells": [
  {
   "cell_type": "code",
   "execution_count": 1,
   "metadata": {},
   "outputs": [],
   "source": [
    "import numpy as np\n",
    "import matplotlib.pyplot as plt"
   ]
  },
  {
   "cell_type": "code",
   "execution_count": 32,
   "metadata": {},
   "outputs": [],
   "source": [
    "# fake data\n",
    "np.random.seed(937)\n",
    "data = np.random.lognormal(size=(37, 4), mean=1.5, sigma=1.75)\n",
    "labels = list('ABCD')\n",
    "my_list = ['ali', 'mehmet', 'hasan', 'huso']\n",
    "fs = 10  # fontsize"
   ]
  },
  {
   "cell_type": "code",
   "execution_count": 33,
   "metadata": {},
   "outputs": [
    {
     "data": {
      "text/plain": [
       "<matplotlib.text.Text at 0x7f303689d518>"
      ]
     },
     "execution_count": 33,
     "metadata": {},
     "output_type": "execute_result"
    }
   ],
   "source": [
    "# demonstrate how to toggle the display of different elements:\n",
    "fig, axes = plt.subplots(nrows=2, ncols=3, figsize=(12, 12), sharey=True)\n",
    "axes[0, 0].boxplot(data, labels=my_list)\n",
    "axes[0, 0].set_title('Default', fontsize=fs)\n",
    "\n",
    "axes[0, 1].boxplot(data, labels=labels, showmeans=True)\n",
    "axes[0, 1].set_title('showmeans=True', fontsize=fs)\n",
    "\n",
    "axes[0, 2].boxplot(data, labels=labels, showmeans=True, meanline=True)\n",
    "axes[0, 2].set_title('showmeans=True,\\nmeanline=True', fontsize=fs)\n",
    "\n",
    "axes[1, 0].boxplot(data, labels=labels, showbox=False, showcaps=False)\n",
    "tufte_title = 'Tufte Style \\n(showbox=False,\\nshowcaps=False)'\n",
    "axes[1, 0].set_title(tufte_title, fontsize=fs)\n",
    "\n",
    "axes[1, 1].boxplot(data, labels=labels, notch=True, bootstrap=10000)\n",
    "axes[1, 1].set_title('notch=True,\\nbootstrap=10000', fontsize=fs)\n",
    "\n",
    "axes[1, 2].boxplot(data, labels=labels, showfliers=False)\n",
    "axes[1, 2].set_title('showfliers=False', fontsize=fs)\n"
   ]
  },
  {
   "cell_type": "code",
   "execution_count": 34,
   "metadata": {},
   "outputs": [],
   "source": [
    "for ax in axes.flatten():\n",
    "    ax.set_yscale('log')\n",
    "    ax.set_yticklabels([])"
   ]
  },
  {
   "cell_type": "code",
   "execution_count": null,
   "metadata": {},
   "outputs": [],
   "source": [
    "fig.subplots_adjust(hspace=0.4)\n",
    "plt.show()\n"
   ]
  },
  {
   "cell_type": "code",
   "execution_count": null,
   "metadata": {},
   "outputs": [],
   "source": []
  }
 ],
 "metadata": {
  "kernelspec": {
   "display_name": "Python (carnd-term1)",
   "language": "python",
   "name": "carnd-term1"
  },
  "language_info": {
   "codemirror_mode": {
    "name": "ipython",
    "version": 3
   },
   "file_extension": ".py",
   "mimetype": "text/x-python",
   "name": "python",
   "nbconvert_exporter": "python",
   "pygments_lexer": "ipython3",
   "version": "3.5.2"
  },
  "widgets": {
   "state": {},
   "version": "1.1.2"
  }
 },
 "nbformat": 4,
 "nbformat_minor": 2
}
