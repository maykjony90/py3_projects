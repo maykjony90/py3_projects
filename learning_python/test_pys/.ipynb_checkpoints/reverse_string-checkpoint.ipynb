{
 "cells": [
  {
   "cell_type": "code",
   "execution_count": 1,
   "metadata": {
    "collapsed": true
   },
   "outputs": [],
   "source": [
    "# reverse the given string\n",
    "def reverse_string(user_input):\n",
    "    \"\"\" <string> -> <string>\n",
    "    \n",
    "    Takes a string, user_input, as its argument\n",
    "    and returns reversed version of it.\n",
    "    \"\"\"\n",
    "    \n",
    "    # create a variable to store buffering data\n",
    "    result = ''\n",
    "    # loop from back\n",
    "    for i in range(len(user_input)-1, -1, -1):\n",
    "        # add the letters from end to start\n",
    "        result += ''.join(user_input[i])\n",
    "    # return the reversed input\n",
    "    return result"
   ]
  },
  {
   "cell_type": "code",
   "execution_count": 3,
   "metadata": {},
   "outputs": [
    {
     "name": "stdout",
     "output_type": "stream",
     "text": [
      "olleh\n"
     ]
    }
   ],
   "source": [
    "# how reverse_string function works:\n",
    "print(reverse_string(\"hello\"))"
   ]
  }
 ],
 "metadata": {
  "kernelspec": {
   "display_name": "Python (py3.6)",
   "language": "python",
   "name": "py3"
  },
  "language_info": {
   "codemirror_mode": {
    "name": "ipython",
    "version": 3
   },
   "file_extension": ".py",
   "mimetype": "text/x-python",
   "name": "python",
   "nbconvert_exporter": "python",
   "pygments_lexer": "ipython3",
   "version": "3.6.1"
  }
 },
 "nbformat": 4,
 "nbformat_minor": 2
}
