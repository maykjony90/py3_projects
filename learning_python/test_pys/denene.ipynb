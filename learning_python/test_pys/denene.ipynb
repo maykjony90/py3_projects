{
 "cells": [
  {
   "cell_type": "code",
   "execution_count": 12,
   "metadata": {},
   "outputs": [],
   "source": [
    "def main():\n",
    "    user_mood = input(\"Hey! How you doin' today? \")\n",
    "    print(\"I'm happy to hear that you are {}.\\n\".format(user_mood))\n",
    "    user_name = input(\"I am Eliza. What's your name? \")\n",
    "    user_name = user_name[0].upper() + user_name[1:]\n",
    "    print(\"Hi {}! I am pleased to meet you!\\n\".format(user_name))"
   ]
  },
  {
   "cell_type": "code",
   "execution_count": 13,
   "metadata": {},
   "outputs": [
    {
     "name": "stdout",
     "output_type": "stream",
     "text": [
      "Hey! How you doin' today? fine\n",
      "I'm happy to hear that you are fine.\n",
      "\n",
      "I am Eliza. What's your name? mayk\n",
      "Hi Mayk! I am pleased to meet you!\n",
      "\n"
     ]
    }
   ],
   "source": [
    "if __name__ == \"__main__\":\n",
    "    main()"
   ]
  },
  {
   "cell_type": "code",
   "execution_count": 14,
   "metadata": {
    "collapsed": true
   },
   "outputs": [],
   "source": [
    "obj = {\"name\": \"mayk\", \"age\":27, \"last_name\":\"jony\"}\n"
   ]
  },
  {
   "cell_type": "code",
   "execution_count": 15,
   "metadata": {},
   "outputs": [
    {
     "data": {
      "text/plain": [
       "'mayk'"
      ]
     },
     "execution_count": 15,
     "metadata": {},
     "output_type": "execute_result"
    }
   ],
   "source": [
    "obj[\"name\"]"
   ]
  },
  {
   "cell_type": "code",
   "execution_count": 16,
   "metadata": {
    "collapsed": true
   },
   "outputs": [],
   "source": [
    "obj = {\"country\":\"ceaseri\"}"
   ]
  },
  {
   "cell_type": "code",
   "execution_count": 18,
   "metadata": {
    "collapsed": true
   },
   "outputs": [],
   "source": [
    "obj[\"name\"] = \"mayk\""
   ]
  },
  {
   "cell_type": "code",
   "execution_count": 20,
   "metadata": {
    "collapsed": true
   },
   "outputs": [],
   "source": [
    "obj[\"last_name\"] = \"jony\""
   ]
  },
  {
   "cell_type": "code",
   "execution_count": 21,
   "metadata": {},
   "outputs": [
    {
     "data": {
      "text/plain": [
       "{'country': 'ceaseri', 'last_name': 'jony', 'name': 'mayk'}"
      ]
     },
     "execution_count": 21,
     "metadata": {},
     "output_type": "execute_result"
    }
   ],
   "source": [
    "obj"
   ]
  },
  {
   "cell_type": "code",
   "execution_count": 76,
   "metadata": {
    "collapsed": true
   },
   "outputs": [],
   "source": [
    "class Student(object):\n",
    "    def __init__(self, name, last_name, class_taken=None):\n",
    "        self.name = name\n",
    "        self.last_name = last_name\n",
    "        self.class_taken = class_taken or []\n",
    "    \n",
    "    def greeting(self):\n",
    "        self.name = self.name[0].upper() + self.name[1:]\n",
    "        self.last_name = self.last_name[0].upper() + self.last_name[1:]\n",
    "        return \"Hi {} {}!\".format(self.name, self.last_name)\n",
    "    \n",
    "    def addClass(self, subject):\n",
    "        return self.class_taken.append(subject)"
   ]
  },
  {
   "cell_type": "code",
   "execution_count": 77,
   "metadata": {
    "collapsed": true
   },
   "outputs": [],
   "source": [
    "mayk = Student('mayk', 'jony')"
   ]
  },
  {
   "cell_type": "code",
   "execution_count": 78,
   "metadata": {},
   "outputs": [
    {
     "name": "stdout",
     "output_type": "stream",
     "text": [
      "Hi Mayk Jony!\n"
     ]
    }
   ],
   "source": [
    "print(mayk.greeting())"
   ]
  },
  {
   "cell_type": "code",
   "execution_count": 79,
   "metadata": {},
   "outputs": [],
   "source": [
    "mayk.addClass('math')"
   ]
  },
  {
   "cell_type": "code",
   "execution_count": 83,
   "metadata": {},
   "outputs": [
    {
     "name": "stdout",
     "output_type": "stream",
     "text": [
      "['math', 'physics']\n"
     ]
    }
   ],
   "source": [
    "print(mayk.class_taken)"
   ]
  },
  {
   "cell_type": "code",
   "execution_count": 82,
   "metadata": {
    "collapsed": true
   },
   "outputs": [],
   "source": [
    "mayk.addClass('physics')"
   ]
  },
  {
   "cell_type": "code",
   "execution_count": null,
   "metadata": {
    "collapsed": true
   },
   "outputs": [],
   "source": []
  }
 ],
 "metadata": {
  "kernelspec": {
   "display_name": "Python (py3.6)",
   "language": "python",
   "name": "py3"
  },
  "language_info": {
   "codemirror_mode": {
    "name": "ipython",
    "version": 3
   },
   "file_extension": ".py",
   "mimetype": "text/x-python",
   "name": "python",
   "nbconvert_exporter": "python",
   "pygments_lexer": "ipython3",
   "version": "3.6.1"
  }
 },
 "nbformat": 4,
 "nbformat_minor": 2
}
