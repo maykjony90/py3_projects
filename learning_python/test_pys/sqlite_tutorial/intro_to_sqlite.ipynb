{
 "cells": [
  {
   "cell_type": "markdown",
   "metadata": {},
   "source": [
    "# SQlite Tutorial"
   ]
  },
  {
   "cell_type": "code",
   "execution_count": 1,
   "metadata": {
    "collapsed": true
   },
   "outputs": [],
   "source": [
    "import sqlite3 as lite"
   ]
  },
  {
   "cell_type": "code",
   "execution_count": 2,
   "metadata": {},
   "outputs": [
    {
     "name": "stdout",
     "output_type": "stream",
     "text": [
      "2.6.0\n"
     ]
    }
   ],
   "source": [
    "print(lite.version)"
   ]
  },
  {
   "cell_type": "code",
   "execution_count": 3,
   "metadata": {
    "collapsed": true
   },
   "outputs": [],
   "source": [
    "connection = lite.connect('datas.db')"
   ]
  },
  {
   "cell_type": "code",
   "execution_count": 4,
   "metadata": {},
   "outputs": [
    {
     "name": "stdout",
     "output_type": "stream",
     "text": [
      "Connection established succesfully.\n"
     ]
    }
   ],
   "source": [
    "if connection:\n",
    "    print(\"Connection established succesfully.\")\n",
    "else:\n",
    "    print(\"Connection failed!\")"
   ]
  },
  {
   "cell_type": "code",
   "execution_count": 5,
   "metadata": {
    "collapsed": true
   },
   "outputs": [],
   "source": [
    "# choose the connected data\n",
    "# isaretci nesnesi baglanti nesnesinin cursor() methodu ile\n",
    "# olusturulur.\n",
    "database_choose = connection.cursor()"
   ]
  },
  {
   "cell_type": "markdown",
   "metadata": {},
   "source": [
    "# CREATE DATABASE"
   ]
  },
  {
   "cell_type": "code",
   "execution_count": 6,
   "metadata": {},
   "outputs": [
    {
     "name": "stderr",
     "output_type": "stream",
     "text": [
      "ERROR:root:An unexpected error occurred while tokenizing input\n",
      "The following traceback may be corrupted or invalid\n",
      "The error message is: ('EOF in multi-line string', (1, 0))\n",
      "\n"
     ]
    },
    {
     "ename": "OperationalError",
     "evalue": "table students already exists",
     "output_type": "error",
     "traceback": [
      "\u001b[0;31m---------------------------------------------------------------------------\u001b[0m",
      "\u001b[0;31mOperationalError\u001b[0m                          Traceback (most recent call last)",
      "\u001b[0;32m<ipython-input-6-8809f78f5b63>\u001b[0m in \u001b[0;36m<module>\u001b[0;34m()\u001b[0m\n\u001b[1;32m      7\u001b[0m \u001b[0mlast_name\u001b[0m \u001b[0mVARCHAR\u001b[0m\u001b[0;34m(\u001b[0m\u001b[0;36m50\u001b[0m\u001b[0;34m)\u001b[0m\u001b[0;34m\u001b[0m\u001b[0m\n\u001b[1;32m      8\u001b[0m )\n\u001b[0;32m----> 9\u001b[0;31m ''')\n\u001b[0m",
      "\u001b[0;31mOperationalError\u001b[0m: table students already exists"
     ]
    }
   ],
   "source": [
    "# choose the connected data\n",
    "database_choose.execute('''\n",
    "CREATE TABLE students(\n",
    "id INTEGER PRIMARY KEY,\n",
    "student_number INTEGER NOT NULL,\n",
    "name VARCHAR(50),\n",
    "last_name VARCHAR(50)\n",
    ")\n",
    "''')"
   ]
  },
  {
   "cell_type": "code",
   "execution_count": 7,
   "metadata": {},
   "outputs": [
    {
     "name": "stderr",
     "output_type": "stream",
     "text": [
      "ERROR:root:An unexpected error occurred while tokenizing input\n",
      "The following traceback may be corrupted or invalid\n",
      "The error message is: ('EOF in multi-line string', (1, 94))\n",
      "\n"
     ]
    },
    {
     "ename": "IntegrityError",
     "evalue": "UNIQUE constraint failed: students.id",
     "output_type": "error",
     "traceback": [
      "\u001b[0;31m---------------------------------------------------------------------------\u001b[0m",
      "\u001b[0;31mIntegrityError\u001b[0m                            Traceback (most recent call last)",
      "\u001b[0;32m<ipython-input-7-9d7af1be00c2>\u001b[0m in \u001b[0;36m<module>\u001b[0;34m()\u001b[0m\n\u001b[1;32m      1\u001b[0m database_choose.execute('''\n\u001b[0;32m----> 2\u001b[0;31m INSERT INTO students (id, student_number, name, last_name) VALUES ('1', '601', 'Mayk', 'Jony')''')\n\u001b[0m",
      "\u001b[0;31mIntegrityError\u001b[0m: UNIQUE constraint failed: students.id"
     ]
    }
   ],
   "source": [
    "database_choose.execute('''\n",
    "INSERT INTO students (id, student_number, name, last_name) VALUES ('1', '601', 'Mayk', 'Jony')''')\n"
   ]
  },
  {
   "cell_type": "code",
   "execution_count": 8,
   "metadata": {},
   "outputs": [
    {
     "data": {
      "text/plain": [
       "<sqlite3.Cursor at 0x7f09d7433880>"
      ]
     },
     "execution_count": 8,
     "metadata": {},
     "output_type": "execute_result"
    }
   ],
   "source": [
    "database_choose.execute('''\n",
    "INSERT INTO students (id, student_number, name, last_name) VALUES ('2', '602', 'Josef', 'Smith')''')\n"
   ]
  },
  {
   "cell_type": "code",
   "execution_count": 9,
   "metadata": {
    "collapsed": true
   },
   "outputs": [],
   "source": [
    "connection.commit()"
   ]
  },
  {
   "cell_type": "code",
   "execution_count": 10,
   "metadata": {
    "collapsed": true
   },
   "outputs": [],
   "source": [
    "connection.close()"
   ]
  },
  {
   "cell_type": "markdown",
   "metadata": {},
   "source": [
    "# VERI TABANI OKUMA"
   ]
  },
  {
   "cell_type": "code",
   "execution_count": 11,
   "metadata": {
    "collapsed": true
   },
   "outputs": [],
   "source": [
    "# open databe\n",
    "connection = lite.connect('datas.db')"
   ]
  },
  {
   "cell_type": "code",
   "execution_count": 12,
   "metadata": {
    "collapsed": true
   },
   "outputs": [],
   "source": [
    "# choose the connected data\n",
    "# isaretci nesnesi baglanti nesnesinin cursor() methodu ile\n",
    "# olusturulur.\n",
    "database_choose = connection.cursor()"
   ]
  },
  {
   "cell_type": "code",
   "execution_count": 6,
   "metadata": {
    "collapsed": true
   },
   "outputs": [],
   "source": [
    "# init the object\n",
    "read = database_choose.execute('SELECT * FROM students')"
   ]
  },
  {
   "cell_type": "code",
   "execution_count": 14,
   "metadata": {},
   "outputs": [
    {
     "name": "stdout",
     "output_type": "stream",
     "text": [
      "[(1, 601, 'Mayk', 'Jony'), (2, 602, 'Josef', 'Smith')]\n"
     ]
    }
   ],
   "source": [
    "# show the data\n",
    "print(read.fetchall())"
   ]
  },
  {
   "cell_type": "code",
   "execution_count": 7,
   "metadata": {},
   "outputs": [
    {
     "name": "stdout",
     "output_type": "stream",
     "text": [
      "(1, 601, 'Mayk', 'Jony')\n"
     ]
    }
   ],
   "source": [
    "# fetchone() ilg veriyi ceker\n",
    "print(read.fetchone())"
   ]
  },
  {
   "cell_type": "code",
   "execution_count": 8,
   "metadata": {},
   "outputs": [
    {
     "name": "stdout",
     "output_type": "stream",
     "text": [
      "[(2, 602, 'Josef', 'Smith')]\n"
     ]
    }
   ],
   "source": [
    "# fetchmany(quiered data) parametre olarak yazilan veriyi ceker.\n",
    "print(read.fetchmany(2))"
   ]
  },
  {
   "cell_type": "markdown",
   "metadata": {},
   "source": [
    "# RETRIEVE SPECIFIC INFO"
   ]
  },
  {
   "cell_type": "code",
   "execution_count": 7,
   "metadata": {},
   "outputs": [
    {
     "name": "stdout",
     "output_type": "stream",
     "text": [
      "First Name : Mayk\n",
      "Last Name : Jony\n",
      "Student Number : 601\n",
      "First Name : Josef\n",
      "Last Name : Smith\n",
      "Student Number : 602\n"
     ]
    }
   ],
   "source": [
    "# read specific information from database\n",
    "read = database_choose.execute('SELECT name, last_name, student_number FROM students')\n",
    "# print the information with an explicative phrase\n",
    "for info in read.fetchall():\n",
    "    print(\"First Name : %s\\nLast Name : %s\\nStudent Number : %s\" % (info))"
   ]
  },
  {
   "cell_type": "code",
   "execution_count": 17,
   "metadata": {
    "collapsed": true
   },
   "outputs": [],
   "source": [
    "# after making a change into a database,\n",
    "# save it by sqlite3's commit() method.\n",
    "connection.commit()"
   ]
  },
  {
   "cell_type": "code",
   "execution_count": 17,
   "metadata": {
    "collapsed": true
   },
   "outputs": [],
   "source": [
    "# It's reccomended closing the database after opening it once.\n",
    "connection.close()"
   ]
  },
  {
   "cell_type": "markdown",
   "metadata": {},
   "source": [
    "# # SQLite Alanlara Gore Cagirma"
   ]
  },
  {
   "cell_type": "code",
   "execution_count": 7,
   "metadata": {
    "collapsed": true
   },
   "outputs": [],
   "source": [
    "import sqlite3 as lite"
   ]
  },
  {
   "cell_type": "code",
   "execution_count": 8,
   "metadata": {
    "collapsed": true
   },
   "outputs": [],
   "source": [
    "connection = lite.connect('datas.db')"
   ]
  },
  {
   "cell_type": "code",
   "execution_count": 9,
   "metadata": {
    "collapsed": true
   },
   "outputs": [],
   "source": [
    "connection.row_factory = lite.Row"
   ]
  },
  {
   "cell_type": "code",
   "execution_count": 10,
   "metadata": {
    "collapsed": true
   },
   "outputs": [],
   "source": [
    "choose_database = connection.cursor()"
   ]
  },
  {
   "cell_type": "code",
   "execution_count": 11,
   "metadata": {
    "collapsed": true
   },
   "outputs": [],
   "source": [
    "read = choose_database.execute('SELECT name, last_name, student_number FROM students')"
   ]
  },
  {
   "cell_type": "code",
   "execution_count": 12,
   "metadata": {},
   "outputs": [
    {
     "name": "stdout",
     "output_type": "stream",
     "text": [
      "Mayk Jony 601\n",
      "Josef Smith 602\n"
     ]
    }
   ],
   "source": [
    "for info in read.fetchall():\n",
    "    print(info['name'], info['last_name'], info['student_number'])"
   ]
  },
  {
   "cell_type": "markdown",
   "metadata": {
    "collapsed": true
   },
   "source": [
    "# PYTHON DOCS VUUU!!!"
   ]
  },
  {
   "cell_type": "code",
   "execution_count": 13,
   "metadata": {
    "collapsed": true
   },
   "outputs": [],
   "source": [
    "import sqlite3"
   ]
  },
  {
   "cell_type": "code",
   "execution_count": 14,
   "metadata": {
    "collapsed": true
   },
   "outputs": [],
   "source": [
    "# here data will be stored in conn \n",
    "conn = sqlite3.connect('example.db')"
   ]
  },
  {
   "cell_type": "code",
   "execution_count": 15,
   "metadata": {
    "collapsed": true
   },
   "outputs": [],
   "source": [
    "# create a curser object and call its execute() method\n",
    "cursor = conn.cursor()"
   ]
  },
  {
   "cell_type": "code",
   "execution_count": 16,
   "metadata": {},
   "outputs": [
    {
     "data": {
      "text/plain": [
       "<sqlite3.Cursor at 0x7fac993607a0>"
      ]
     },
     "execution_count": 16,
     "metadata": {},
     "output_type": "execute_result"
    }
   ],
   "source": [
    "cursor.execute(\"\"\"CREATE TABLE students\n",
    "(name text, last_name text)\"\"\")"
   ]
  },
  {
   "cell_type": "code",
   "execution_count": 17,
   "metadata": {
    "collapsed": true
   },
   "outputs": [],
   "source": [
    "# save(commit) the changes\n",
    "conn.commit()"
   ]
  },
  {
   "cell_type": "code",
   "execution_count": 18,
   "metadata": {
    "collapsed": true
   },
   "outputs": [],
   "source": [
    "# close the file\n",
    "conn.close()"
   ]
  },
  {
   "cell_type": "code",
   "execution_count": 1,
   "metadata": {
    "collapsed": true
   },
   "outputs": [],
   "source": [
    "# HOW TO INSERT NEW DATA"
   ]
  },
  {
   "cell_type": "code",
   "execution_count": 1,
   "metadata": {
    "collapsed": true
   },
   "outputs": [],
   "source": [
    "import sqlite3"
   ]
  },
  {
   "cell_type": "code",
   "execution_count": 2,
   "metadata": {
    "collapsed": true
   },
   "outputs": [],
   "source": [
    "# here data will be stored in conn \n",
    "connection = sqlite3.connect('example.db')"
   ]
  },
  {
   "cell_type": "code",
   "execution_count": 4,
   "metadata": {},
   "outputs": [],
   "source": [
    "# create a curser object and call its execute() method\n",
    "cursor = connection.cursor()"
   ]
  },
  {
   "cell_type": "code",
   "execution_count": 5,
   "metadata": {
    "collapsed": true
   },
   "outputs": [],
   "source": [
    "exam = ('mayk',)"
   ]
  },
  {
   "cell_type": "code",
   "execution_count": 7,
   "metadata": {},
   "outputs": [
    {
     "name": "stdout",
     "output_type": "stream",
     "text": [
      "None\n"
     ]
    }
   ],
   "source": [
    "cursor.execute(\"SELECT * FROM students WHERE name=?\", exam)\n",
    "print(cursor.fetchone())"
   ]
  },
  {
   "cell_type": "code",
   "execution_count": 8,
   "metadata": {
    "collapsed": true
   },
   "outputs": [],
   "source": [
    "recien = [('josef', 'smith'),\n",
    "         ('merve', 'basaran')]"
   ]
  },
  {
   "cell_type": "code",
   "execution_count": 10,
   "metadata": {},
   "outputs": [
    {
     "data": {
      "text/plain": [
       "<sqlite3.Cursor at 0x7f7facf16260>"
      ]
     },
     "execution_count": 10,
     "metadata": {},
     "output_type": "execute_result"
    }
   ],
   "source": [
    "connection.executemany('INSERT INTO students VALUES (?,?)', recien)"
   ]
  },
  {
   "cell_type": "code",
   "execution_count": null,
   "metadata": {},
   "outputs": [
    {
     "name": "stdout",
     "output_type": "stream",
     "text": [
      "Enter your SQL commands to execute in sqlite3.\n",
      "Enter a blank line to exit.\n",
      "dfghdfgh\n"
     ]
    }
   ],
   "source": [
    "# A minimal SQLite shell for experiments\n",
    "\n",
    "import sqlite3\n",
    "\n",
    "con = sqlite3.connect(\":memory:\")\n",
    "con.isolation_level = None\n",
    "cur = con.cursor()\n",
    "\n",
    "buffer = \"\"\n",
    "\n",
    "print(\"Enter your SQL commands to execute in sqlite3.\")\n",
    "print(\"Enter a blank line to exit.\")\n",
    "\n",
    "while True:\n",
    "    line = input()\n",
    "    if line == \"\":\n",
    "        break\n",
    "    buffer += line\n",
    "    if sqlite3.complete_statement(buffer):\n",
    "        try:\n",
    "            buffer = buffer.strip()\n",
    "            cur.execute(buffer)\n",
    "\n",
    "            if buffer.lstrip().upper().startswith(\"SELECT\"):\n",
    "                print(cur.fetchall())\n",
    "        except sqlite3.Error as e:\n",
    "            print(\"An error occurred:\", e.args[0])\n",
    "        buffer = \"\"\n",
    "\n",
    "con.close()"
   ]
  },
  {
   "cell_type": "markdown",
   "metadata": {},
   "source": [
    "# YOUTUBE TUTORIAL"
   ]
  },
  {
   "cell_type": "code",
   "execution_count": null,
   "metadata": {
    "collapsed": true
   },
   "outputs": [],
   "source": [
    "class Patient:\n",
    "    \"A sample patient class\"\n",
    "    \n",
    "    def __init__(self, first, last, grafts):\n",
    "        self.first = first\n",
    "        self.last = last\n",
    "        self.grafts = grafts\n",
    "        \n",
    "    @property\n",
    "    def email(self):\n",
    "        return \"{}.{}@drkeser.com\".format(self.first, self.last)\n",
    "    \n",
    "    @propert\n",
    "    def fullname(self):\n",
    "        return \"{} {}\".format(self.first, self.last)\n",
    "    \n",
    "    def __repr__:\n",
    "        return \"Patient('{}', '{}', '{}')\".format(self.first, self.last, self.grafts)"
   ]
  },
  {
   "cell_type": "code",
   "execution_count": null,
   "metadata": {
    "collapsed": true
   },
   "outputs": [],
   "source": []
  }
 ],
 "metadata": {
  "kernelspec": {
   "display_name": "Python (py3.6)",
   "language": "python",
   "name": "py3"
  },
  "language_info": {
   "codemirror_mode": {
    "name": "ipython",
    "version": 3
   },
   "file_extension": ".py",
   "mimetype": "text/x-python",
   "name": "python",
   "nbconvert_exporter": "python",
   "pygments_lexer": "ipython3",
   "version": "3.6.1"
  }
 },
 "nbformat": 4,
 "nbformat_minor": 2
}
