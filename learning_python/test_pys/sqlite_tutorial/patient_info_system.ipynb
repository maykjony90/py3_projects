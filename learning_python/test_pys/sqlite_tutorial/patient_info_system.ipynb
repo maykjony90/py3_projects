{
 "cells": [
  {
   "cell_type": "code",
   "execution_count": 56,
   "metadata": {
    "collapsed": true
   },
   "outputs": [],
   "source": [
    "class Patient:\n",
    "    pass"
   ]
  },
  {
   "cell_type": "code",
   "execution_count": 57,
   "metadata": {
    "collapsed": true
   },
   "outputs": [],
   "source": [
    "carl = Patient()"
   ]
  },
  {
   "cell_type": "code",
   "execution_count": 58,
   "metadata": {},
   "outputs": [
    {
     "name": "stdout",
     "output_type": "stream",
     "text": [
      "<__main__.Patient object at 0x7f433c3a7c50>\n"
     ]
    }
   ],
   "source": [
    "print(carl)"
   ]
  },
  {
   "cell_type": "code",
   "execution_count": 66,
   "metadata": {
    "collapsed": true
   },
   "outputs": [],
   "source": [
    "class Paciente:\n",
    "    # initiate the object\n",
    "    first_name = None\n",
    "    last_name = None\n",
    "    nationality = None\n",
    "    age = None\n",
    "    occupation = None\n",
    "    grafts = None\n",
    "    norwood_scale = None\n",
    "    marital_status = None\n",
    "    operation_date = None\n",
    "    \n",
    "    \n",
    "    # get information of patient by name and last name(optional)\n",
    "    def get_info_by_name(self):\n",
    "        # create a list with patient's information\n",
    "        patient = [self.name.upper() + \" \" + self.last_name.upper(),\n",
    "                \"Age: \\t\\t{}\".format(self.age),\n",
    "                \"Nationality: \\t{}\".format(self.nationality),\n",
    "                \"Occupation: \\t{}\".format(self.occupation),\n",
    "                \"Marital Status: {}\".format(self.estado_civil),\n",
    "                \"Grafts: \\t{}\".format(self.grafts),\n",
    "                \"Norwood Scale: \\t{}\".format(self.norwood_scale),\n",
    "                \"Operation Date: {}\".format(self.operation_date)]\n",
    "        \n",
    "        for info in patient:\n",
    "            print(info + \"\\n\")\n",
    "            \n",
    "    \n",
    "# introduce new patient\n",
    "def insert_new_patient(self):\n",
    "    print(\"Please enter patient's info\\n\")\n",
    "    name = input(\"Name: \")\n",
    "    last_name = input(\"Last Name: \")\n",
    "    nationality = input(\"Nationality: \")\n",
    "    occupation = input(\"Occupation: \")\n",
    "    age = input(\"Age: \")\n",
    "    marital_status = input(\"Marital Status: \")\n",
    "    norwood_scale = input(\"Norwood Scale: \")\n",
    "    operation_date = input(\"Operation Date: \")\n",
    "        \n",
    "        \n",
    "        \n",
    "    \n",
    "    # get\n",
    "    \n",
    "        "
   ]
  },
  {
   "cell_type": "code",
   "execution_count": 62,
   "metadata": {},
   "outputs": [],
   "source": [
    "# initiate an instance of a Pacinte class.\n",
    "example = Paciente(\"mayk\", \"jony\", \"turkish\", 28, 1500, \"freelancer\", \"single\", 2, \"17.10.2017\")"
   ]
  },
  {
   "cell_type": "code",
   "execution_count": 63,
   "metadata": {},
   "outputs": [
    {
     "name": "stdout",
     "output_type": "stream",
     "text": [
      "MAYK JONY\n",
      "\n",
      "Age: \t\t28\n",
      "\n",
      "Nationality: \tturkish\n",
      "\n",
      "Occupation: \tfreelancer\n",
      "\n",
      "Marital Status: single\n",
      "\n",
      "Grafts: \t1500\n",
      "\n",
      "Norwood Scale: \t2\n",
      "\n",
      "Operation Date: 17.10.2017\n",
      "\n"
     ]
    }
   ],
   "source": [
    "example.get_info_by_name()"
   ]
  },
  {
   "cell_type": "code",
   "execution_count": 64,
   "metadata": {},
   "outputs": [
    {
     "name": "stdout",
     "output_type": "stream",
     "text": [
      "Please enter patient's info\n",
      "\n",
      "Name: josef\n",
      "Last Name: smith\n",
      "Nationality: mormon\n",
      "Occupation: spy\n",
      "Age: 35\n"
     ]
    }
   ],
   "source": [
    "example.insert_new_patient()"
   ]
  },
  {
   "cell_type": "code",
   "execution_count": 65,
   "metadata": {},
   "outputs": [
    {
     "name": "stdout",
     "output_type": "stream",
     "text": [
      "MAYK JONY\n",
      "\n",
      "Age: \t\t28\n",
      "\n",
      "Nationality: \tturkish\n",
      "\n",
      "Occupation: \tfreelancer\n",
      "\n",
      "Marital Status: single\n",
      "\n",
      "Grafts: \t1500\n",
      "\n",
      "Norwood Scale: \t2\n",
      "\n",
      "Operation Date: 17.10.2017\n",
      "\n"
     ]
    }
   ],
   "source": [
    "example.get_info_by_name()\n"
   ]
  },
  {
   "cell_type": "code",
   "execution_count": null,
   "metadata": {
    "collapsed": true
   },
   "outputs": [],
   "source": []
  }
 ],
 "metadata": {
  "kernelspec": {
   "display_name": "Python (py3.6)",
   "language": "python",
   "name": "py3"
  },
  "language_info": {
   "codemirror_mode": {
    "name": "ipython",
    "version": 3
   },
   "file_extension": ".py",
   "mimetype": "text/x-python",
   "name": "python",
   "nbconvert_exporter": "python",
   "pygments_lexer": "ipython3",
   "version": "3.6.1"
  }
 },
 "nbformat": 4,
 "nbformat_minor": 2
}
