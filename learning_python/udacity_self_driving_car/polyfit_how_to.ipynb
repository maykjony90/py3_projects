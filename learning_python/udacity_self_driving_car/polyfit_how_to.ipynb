{
 "cells": [
  {
   "cell_type": "code",
   "execution_count": 1,
   "metadata": {},
   "outputs": [],
   "source": [
    "import matplotlib.pyplot as plt\n",
    "import numpy as np"
   ]
  },
  {
   "cell_type": "code",
   "execution_count": 2,
   "metadata": {},
   "outputs": [],
   "source": [
    "# for simplicity's sake\n",
    "# basit bir anlatım için bu noktaları kullanacağım\n",
    "lines = [\n",
    "  (50, 50, 40, 35),\n",
    "  (52, 52, 42, 37),\n",
    "  (38, 30, 25, 15),\n",
    "]"
   ]
  },
  {
   "cell_type": "code",
   "execution_count": 3,
   "metadata": {},
   "outputs": [],
   "source": [
    "# noktalarımızı birleştirim yeşil renkli doğrular oluşturuyorum.\n",
    "for x1, y1, x2, y2 in lines:\n",
    "    plt.plot((x1, x2), (y1, y2), 'g')"
   ]
  },
  {
   "cell_type": "code",
   "execution_count": 4,
   "metadata": {},
   "outputs": [
    {
     "data": {
      "image/png": "[encoded data removed]",
      "text/plain": [
       "<matplotlib.figure.Figure at 0x7fbe22e578d0>"
      ]
     },
     "metadata": {},
     "output_type": "display_data"
    }
   ],
   "source": [
    "# 2 boyutlu düzlemin ölçülerini belirle\n",
    "plt.axis([0, 60, 0, 60])\n",
    "plt.show()"
   ]
  },
  {
   "cell_type": "code",
   "execution_count": 4,
   "metadata": {},
   "outputs": [],
   "source": [
    "# The goal is to have one straight line from the top right corner \n",
    "# to all the way down.\n",
    "# First, separate x and y points.\n",
    "# Amaç, sağ üst köşeden sol alt köşeye uzanan bir doğru parçası çizmek\n",
    "# önce, x ve y noktalarını ayır\n",
    "x = []\n",
    "y = []\n",
    "for x1, y1, x2, y2 in lines:\n",
    "    x += [x1, x2]\n",
    "    y += [y1, y2]"
   ]
  },
  {
   "cell_type": "code",
   "execution_count": 5,
   "metadata": {},
   "outputs": [
    {
     "name": "stdout",
     "output_type": "stream",
     "text": [
      "[50, 40, 52, 42, 38, 25] [50, 35, 52, 37, 30, 15]\n"
     ]
    }
   ],
   "source": [
    "print(x, y)"
   ]
  },
  {
   "cell_type": "code",
   "execution_count": 7,
   "metadata": {},
   "outputs": [
    {
     "name": "stdout",
     "output_type": "stream",
     "text": [
      "[  1.40241735 -21.23284749]\n"
     ]
    }
   ],
   "source": [
    "# Then we can use np.polyfit to fit a line to these points. \n",
    "# A straight line can be represented with y = mx + b\n",
    "# which is a polynomial of degree 1.\n",
    "# Sonra np.polyfit() fonksiyonunu kullanarak noktalar üzerine \n",
    "# bir doğru parçası yerleştir.\n",
    "# Düz bir doğru parçası y=mx+b şeklinde ifade edilebilir,\n",
    "# Bu 1. dereceden polinomdur, bu yüzden 1 değerni yazıyoruz.\n",
    "z = np.polyfit(x, y, 1)\n",
    "print(z)\n",
    "# we'll get:\n",
    "# alacağımız sonuç:"
   ]
  },
  {
   "cell_type": "code",
   "execution_count": 8,
   "metadata": {},
   "outputs": [],
   "source": [
    "# which are the coeficients for y = mx + b, \n",
    "# so m=1.40241735 and b=-21.23284749.\n",
    "# bu değerler y=mx+b için katsayılardır,\n",
    "# yani m=1.40241735 ve b=-21.23284749.\n",
    "m, b = z"
   ]
  },
  {
   "cell_type": "code",
   "execution_count": 10,
   "metadata": {},
   "outputs": [
    {
     "data": {
      "image/png": "[encoded data removed]",
      "text/plain": [
       "<matplotlib.figure.Figure at 0x7fbe20badc88>"
      ]
     },
     "metadata": {},
     "output_type": "display_data"
    }
   ],
   "source": [
    "for i in range(min(x), max(x)):\n",
    "    plt.plot(i, i * m + b, 'go')\n",
    "\n",
    "plt.show()\n",
    "# aşağıdaki şekilde görüldüğü gibi b dikey aksisdeki değeri,\n",
    "# m ise doğrunun eğimini belirliyor."
   ]
  },
  {
   "cell_type": "code",
   "execution_count": 11,
   "metadata": {},
   "outputs": [
    {
     "data": {
      "image/png": "[encoded data removed]",
      "text/plain": [
       "<matplotlib.figure.Figure at 0x7fbe20bad358>"
      ]
     },
     "metadata": {},
     "output_type": "display_data"
    }
   ],
   "source": [
    "# numpy has a handy function np.poly1d which can \n",
    "# do the y = mx + b calculation for us.\n",
    "# numpy'ın np.poly1d() foksiyonu y=mx+b hesaplamasını\n",
    "# bizim için yapacaktır.\n",
    "z = np.polyfit(x, y, 1)\n",
    "f = np.poly1d(z)\n",
    "\n",
    "for i in range(min(x), max(x)):\n",
    "    plt.plot(i, f(i), 'go')\n",
    "\n",
    "plt.show()"
   ]
  },
  {
   "cell_type": "code",
   "execution_count": 12,
   "metadata": {},
   "outputs": [
    {
     "name": "stdout",
     "output_type": "stream",
     "text": [
      "[(25, 13), (28, 18), (31, 22), (34, 26), (37, 30), (40, 34), (43, 39), (46, 43), (49, 47), (52, 51)]\n",
      "10\n"
     ]
    },
    {
     "data": {
      "image/png": "[encoded data removed]",
      "text/plain": [
       "<matplotlib.figure.Figure at 0x7fbe20a45940>"
      ]
     },
     "metadata": {},
     "output_type": "display_data"
    }
   ],
   "source": [
    "# Instead of using range, we could also use numpy's np.\n",
    "# linspace to generate a number of points for us.\n",
    "# range kullanmak yerine, yine numpy'ın np.linespace()\n",
    "# fonksiyonunu kullanarak noktalarımızı oluşturabiliriz.\n",
    "x_new = np.linspace(min(x), max(x), 10).astype(int)\n",
    "y_new = f(x_new).astype(int)\n",
    "points_new = list(zip(x_new, y_new))\n",
    "\n",
    "print(points_new) \n",
    "# [(25, 13), (28, 18), (31, 22), (34, 26), (37, 30), (40, 34), \n",
    "# (43, 39), (46, 43), (49, 47), (52, 51)]\n",
    "print(len(points_new)) # 10\n",
    "\n",
    "for x, y in points_new:\n",
    "    plt.plot(x, y, 'ro')\n",
    "\n",
    "plt.show()"
   ]
  },
  {
   "cell_type": "code",
   "execution_count": 13,
   "metadata": {},
   "outputs": [
    {
     "data": {
      "image/png": "[encoded data removed]",
      "text/plain": [
       "<matplotlib.figure.Figure at 0x7fbe20a4add8>"
      ]
     },
     "metadata": {},
     "output_type": "display_data"
    }
   ],
   "source": [
    "# We could plot these points as lines as follows:\n",
    "# Bu noktaları bir doğru parçası olarak ifade edebiliriz\n",
    "for i in range(1, len(points_new)):\n",
    "    px, py = points_new[i-1]\n",
    "    cx, cy = points_new[i]\n",
    "    plt.plot((px, cx), (py, cy), 'r')\n",
    "\n",
    "plt.show()"
   ]
  },
  {
   "cell_type": "code",
   "execution_count": 14,
   "metadata": {},
   "outputs": [
    {
     "data": {
      "image/png": "[encoded data removed]",
      "text/plain": [
       "<matplotlib.figure.Figure at 0x7fbe208889b0>"
      ]
     },
     "metadata": {},
     "output_type": "display_data"
    }
   ],
   "source": [
    "# Or make it just one straight line because that's what \n",
    "# we ultimately want.\n",
    "# Ya da düz bir doğru parçası olarak,\n",
    "# nihayetinde görmek istediğimizde bu zaten.\n",
    "px, py = points_new[0]\n",
    "cx, cy = points_new[-1]\n",
    "\n",
    "plt.plot((px, cx), (py, cy), 'r')\n",
    "plt.show()"
   ]
  },
  {
   "cell_type": "code",
   "execution_count": 2,
   "metadata": {},
   "outputs": [
    {
     "data": {
      "image/png": "[encoded data removed]",
      "text/plain": [
       "<matplotlib.figure.Figure at 0x7f9051d86be0>"
      ]
     },
     "metadata": {},
     "output_type": "display_data"
    }
   ],
   "source": [
    "# If return to the original question, how do we extrapolate the lines?\n",
    "# Since we got a straight line, we can simply plug in points \n",
    "# that are outside of our data set.\n",
    "# Asıl soruya dönelim, bu çizgilerin dığ değerlerini nasıl buluruz?\n",
    "# Zaten düz doğru var elimizde, yalnızca ...????\n",
    "lines = [\n",
    "  (50, 50, 40, 35),\n",
    "  (52, 52, 42, 37),\n",
    "  (38, 30, 25, 15),\n",
    "]\n",
    "\n",
    "x = []\n",
    "y = []\n",
    "for x1, y1, x2, y2 in lines:\n",
    "    x += [x1, x2]\n",
    "    y += [y1, y2]\n",
    "\n",
    "z = np.polyfit(x, y, 1)\n",
    "f = np.poly1d(z)\n",
    "\n",
    "plt.plot((0, max(x)), (f(0), f(max(x))), 'r')\n",
    "\n",
    "plt.axis([0, 60, 0, 60])\n",
    "plt.show()"
   ]
  },
  {
   "cell_type": "code",
   "execution_count": 17,
   "metadata": {},
   "outputs": [
    {
     "data": {
      "image/png": "[encoded data removed]",
      "text/plain": [
       "<matplotlib.figure.Figure at 0x7f2834e64668>"
      ]
     },
     "metadata": {},
     "output_type": "display_data"
    }
   ],
   "source": [
    "# By the way, np.polyfit can also fit more complex lines. \n",
    "# This time we need at least a polynomial of degree 3.\n",
    "x = [10, 30, 50, 80, 100]\n",
    "y = [30, 45, 40, 20,  40]\n",
    "\n",
    "for x1, y1 in zip(x, y):\n",
    "    plt.plot(x1, y1, 'ro')\n",
    "\n",
    "z = np.polyfit(x, y, 3)\n",
    "f = np.poly1d(z)\n",
    "\n",
    "for x1 in np.linspace(0, 110, 110):\n",
    "    plt.plot(x1, f(x1), 'b+')\n",
    "\n",
    "plt.axis([0, 110, 0, 60])\n",
    "plt.show()"
   ]
  }
 ],
 "metadata": {
  "kernelspec": {
   "display_name": "Python 3",
   "language": "python",
   "name": "python3"
  },
  "language_info": {
   "codemirror_mode": {
    "name": "ipython",
    "version": 3
   },
   "file_extension": ".py",
   "mimetype": "text/x-python",
   "name": "python",
   "nbconvert_exporter": "python",
   "pygments_lexer": "ipython3",
   "version": "3.5.2"
  },
  "widgets": {
   "state": {},
   "version": "1.1.2"
  }
 },
 "nbformat": 4,
 "nbformat_minor": 2
}
